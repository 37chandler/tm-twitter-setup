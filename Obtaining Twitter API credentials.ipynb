{
 "cells": [
  {
   "cell_type": "markdown",
   "metadata": {},
   "source": [
    "# Creating a Twitter APP and using the Twitter API\n",
    "\n",
    "_Jordan McNea, September 2020_"
   ]
  },
  {
   "cell_type": "markdown",
   "metadata": {},
   "source": [
    "## Step 1: Make a Twitter account"
   ]
  },
  {
   "cell_type": "markdown",
   "metadata": {},
   "source": [
    "- Head over to www.twitter.com and either sign up or sign in if you already have an account.\n",
    "\n",
    "- Since my main account has already created an app and has API credentials, I created a new one. If you already have a Twitter account and are thinking about making a new account for this class, I would suggest using your old one. In my experience, older Twitter accounts are more likely to be granted credentials.\n",
    "\n",
    "- If you are creating an account, make sure you check what your handle is. This can be seen at the bottom of the home page on desktop or if you swipe right on the mobile app. ![twitter setup](images/image_1.png)"
   ]
  },
  {
   "cell_type": "markdown",
   "metadata": {},
   "source": [
    "## Step 2: Apply for API access"
   ]
  },
  {
   "cell_type": "markdown",
   "metadata": {},
   "source": [
    "- Head over to https://developer.twitter.com/en/apply-for-access and click the \"Apply for a developer account\" button.\n",
    "![apply](images/image_2.png)\n",
    "\n",
    "- Since we are grad students, I like to think we are doing academic research. _[John note: you are!]_ It also seems that choosing this increases the liklihood of being accepted over saying you are just a student, but that is secondary to our own self-aggrandizing. ![dev-question](images/image_3.png)\n",
    "\n",
    "- Make sure to include your phone number, say you are signed up as an indivdual developer account, say you live in the U.S. (we had problems last year with a British student getting API credentials since he was foreign), and I'm not sure if it matters what you would like Twitter to call you, but i've had luck with just my name. ![about-you](images/image_4.png)\n",
    "\n",
    "- On the next page, you will be asked to describe what this app will be used for. My feeling is that a bot is trained to sniff out whether this is for academic research or that you are another bot. So make sure you include a purpose with some fancy data science words you've learned in class, as well as John's name, the University's name, the class with the course number, and any other technical jargin. This bot might check if people are using the same bios multiple times, so do not copy mine word-for-word. \n",
    "\n",
    "- Last year, I was able to get by with saying, \"For educational purposes :)\" as my description, but in an election year, especially after how Russian bots were able to game the system on Twitter in 2016, they appear to be much restrictive with who they allow access.  ![your_words](images/image_5.png)\n",
    "\n",
    "- Same deal with \"The Specfics.\" Data science-y words and just explain what a possible project might be for this. Again, just to be safe, don't copy mine word-for-word.\n",
    "\n",
    "- Last year, my specifics was, \"To analyze sentiment analysis and do topic modeling for my grad school class. We're going to use Python and it is solely for educational purposes.\" Something like this will probably still work. ![specifics](images/image_6.png)\n",
    "\n",
    "- For the rest, we can just say \"no.\" It might be breaking Twitter TOS if we do publish research based from our app, so be mindful of this. My thoughts are that it most likely won't be a problem either way. ![three-questions](images/image_7.png)\n",
    "\n",
    "- Look over everything on the next page, and click Looks good!"
   ]
  },
  {
   "cell_type": "markdown",
   "metadata": {},
   "source": [
    "## Step 3: Create an App\n",
    "\n",
    "- Head over to https://developer.twitter.com/en/portal/projects-and-apps and click \"Create App\"\n",
    "\n",
    "- Name your app, and check that you have keys. ![keys](images/image_8.png)\n",
    "\n",
    "- Now we need the access tokens. These are found in your app's main page. Click on Keys and tokens ![access-tokens](images/image_9.png)\n",
    "\n",
    "- Generate your Access Token & Secret, and save them somewhere. If you need to see them again, they'll regenerate and you'll have to update your code.\n",
    "\n",
    "### Very Important Note\n",
    "\n",
    "Never share your keys with anyone else or place them in a public repo. One solution to this is to create a .py file (different from a .ipynb) and store your keys in there as variables and import that file like you would any other library. When you go to commit your repo, stash the .py file containing your keys. For any project where you're working with Twitter, add the file containing your keys to the `.gitignore` file. If you check out the `.gitignore`, you'll see John's api key file listed in there. "
   ]
  },
  {
   "cell_type": "markdown",
   "metadata": {},
   "source": [
    "## Step 4: Storing keys into a .py file\n",
    "\n",
    "- In Jupyter Notebooks, open a new .txt file in the same folder as the notebook you will be using the keys are in ![py-storage](images/image_10.png)\n",
    "\n",
    "\n",
    "\n",
    "- Create variables containing each key as a string, and rename the file something with a .py extention at the end. This will automatically save the file as a .py file instead of a .txt one. I've included an example with fake keys in this repository. ![python-file](images/image_11.png)"
   ]
  },
  {
   "cell_type": "markdown",
   "metadata": {},
   "source": [
    "## Step 5: Let's see if it works"
   ]
  },
  {
   "cell_type": "markdown",
   "metadata": {},
   "source": [
    "- Import the variables from your .py file. Notice how easy this is. \n",
    "\n",
    "- Import tweepy, you might have to install the package first, by going to the command line and typing `pip install tweepy`. Tweepy is Twitter's Python library that allows users to use their API."
   ]
  },
  {
   "cell_type": "code",
   "execution_count": 1,
   "metadata": {},
   "outputs": [],
   "source": [
    "import tweepy\n",
    "\n",
    "from API_Keys import api_key, api_key_secret, access_token, access_token_secret\n"
   ]
  },
  {
   "cell_type": "markdown",
   "metadata": {},
   "source": [
    "- The following authenticates the app"
   ]
  },
  {
   "cell_type": "code",
   "execution_count": 2,
   "metadata": {},
   "outputs": [],
   "source": [
    "auth = tweepy.OAuthHandler(api_key,api_key_secret)\n",
    "auth.set_access_token(access_token,access_token_secret)\n",
    "api = tweepy.API(auth,wait_on_rate_limit=True)"
   ]
  },
  {
   "cell_type": "markdown",
   "metadata": {},
   "source": [
    "- Let's grab the last 100 tweets from @umontana and check the first 10"
   ]
  },
  {
   "cell_type": "code",
   "execution_count": 3,
   "metadata": {},
   "outputs": [
    {
     "data": {
      "text/plain": [
       "[[datetime.datetime(2020, 9, 22, 17, 17, 47),\n",
       "  1308455463617404928,\n",
       "  'With fall semester beginning and ending earlier this year because of the pandemic, UM will offer a winter session t… https://t.co/Xgxs6iCsQy'],\n",
       " [datetime.datetime(2020, 9, 21, 22, 18, 54),\n",
       "  1308168853860442112,\n",
       "  'The University of Montana will celebrate American Indian Heritage Day, Friday, Sept. 25, with a host of activities… https://t.co/CBjBTzu5nk'],\n",
       " [datetime.datetime(2020, 9, 18, 22, 0, 4),\n",
       "  1307076950926733314,\n",
       "  'The UM College of Business has hired Dr. Suzanne Tilleman as its Sprunk and Burnham Endowed Dean. Born and raised i… https://t.co/hBkZf2va7O'],\n",
       " [datetime.datetime(2020, 9, 18, 16, 25, 46),\n",
       "  1306992824693321728,\n",
       "  'UM recently earned the largest single research award in its history: $33.4 million from NIH for the development of… https://t.co/izO2J7e65C'],\n",
       " [datetime.datetime(2020, 9, 17, 19, 20, 3),\n",
       "  1306674294680743937,\n",
       "  'The Center for Children, Families and Workforce Development at UM’s School of Social Work has developed an innovati… https://t.co/bKrEbsiPNS'],\n",
       " [datetime.datetime(2020, 9, 15, 16, 59, 50),\n",
       "  1305914232907599872,\n",
       "  'The entrepreneurial spirit of college students across Big Sky Country will be on full display Friday, Oct. 2, durin… https://t.co/ZF4LwCfwWi'],\n",
       " [datetime.datetime(2020, 9, 15, 14, 57, 38),\n",
       "  1305883478517362688,\n",
       "  'The UM School of Theatre and Dance will present many its productions virtually this year. The school launches its m… https://t.co/07XUp9uLVt'],\n",
       " [datetime.datetime(2020, 9, 14, 19, 16, 32),\n",
       "  1305586247251845120,\n",
       "  'A century ago, English Professor H.G. Merriam launched a journal he said would “serve as an outlet for the very liv… https://t.co/7G9OrYsHxh'],\n",
       " [datetime.datetime(2020, 9, 11, 20, 33, 45),\n",
       "  1304518515626450944,\n",
       "  'UM research was boosted with a $310,000 grant from the National Science Foundation to build a secure high-speed net… https://t.co/SWa4huR4iK'],\n",
       " [datetime.datetime(2020, 8, 31, 22, 10, 25),\n",
       "  1300556574260248576,\n",
       "  'UM has chosen twenty-six outstanding students for the 2020 class of Presidential Leadership Scholars.… https://t.co/Nd1Xwwh25Y']]"
      ]
     },
     "execution_count": 3,
     "metadata": {},
     "output_type": "execute_result"
    }
   ],
   "source": [
    "username = 'umontana'\n",
    "count = 100\n",
    "\n",
    "tweets = tweepy.Cursor(api.user_timeline,id=username).items(count)\n",
    "tweets_list = [[tweet.created_at, tweet.id, tweet.text] for tweet in tweets]\n",
    "\n",
    "tweets_list[:10]"
   ]
  },
  {
   "cell_type": "markdown",
   "metadata": {},
   "source": [
    "Looks like we got a working Twitter App!"
   ]
  }
 ],
 "metadata": {
  "kernelspec": {
   "display_name": "Python 3",
   "language": "python",
   "name": "python3"
  },
  "language_info": {
   "codemirror_mode": {
    "name": "ipython",
    "version": 3
   },
   "file_extension": ".py",
   "mimetype": "text/x-python",
   "name": "python",
   "nbconvert_exporter": "python",
   "pygments_lexer": "ipython3",
   "version": "3.7.3"
  }
 },
 "nbformat": 4,
 "nbformat_minor": 2
}
